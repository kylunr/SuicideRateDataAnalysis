{
  "nbformat": 4,
  "nbformat_minor": 0,
  "metadata": {
    "colab": {
      "name": "SuicideRateAnalysis.ipynb",
      "provenance": [],
      "collapsed_sections": []
    },
    "kernelspec": {
      "name": "python3",
      "display_name": "Python 3"
    }
  },
  "cells": [
    {
      "cell_type": "code",
      "metadata": {
        "id": "VKytYAGaEITM",
        "colab_type": "code",
        "colab": {
          "base_uri": "https://localhost:8080/",
          "height": 51
        },
        "outputId": "6edb904d-a9ff-4209-a605-99e6afcc9447"
      },
      "source": [
        "import pandas as pd\n",
        "import numpy as np\n",
        "\n",
        "import matplotlib.pyplot as plt\n",
        "import matplotlib as mpl\n",
        "\n",
        "from sklearn.ensemble import RandomForestClassifier\n",
        "from sklearn.metrics import mean_absolute_error, accuracy_score\n",
        "from sklearn.metrics import classification_report, confusion_matrix\n",
        "from sklearn.model_selection import train_test_split\n",
        "\n",
        "import seaborn as sns; sns.set()"
      ],
      "execution_count": 1,
      "outputs": [
        {
          "output_type": "stream",
          "text": [
            "/usr/local/lib/python3.6/dist-packages/statsmodels/tools/_testing.py:19: FutureWarning: pandas.util.testing is deprecated. Use the functions in the public API at pandas.testing instead.\n",
            "  import pandas.util.testing as tm\n"
          ],
          "name": "stderr"
        }
      ]
    },
    {
      "cell_type": "code",
      "metadata": {
        "id": "niBV8HxvEdyC",
        "colab_type": "code",
        "outputId": "5e953314-c1a6-4947-816e-30c4e5e2db35",
        "colab": {
          "base_uri": "https://localhost:8080/",
          "height": 204
        }
      },
      "source": [
        "# Url to data hosted on github\n",
        "# Original data source: https://www.kaggle.com/russellyates88/suicide-rates-overview-1985-to-2016?select=master.csv\n",
        "data_url = 'https://raw.githubusercontent.com/KylunR/SuicideRateDataAnalysis/master/data.csv'\n",
        "\n",
        "\n",
        "# Columns of data to read into\n",
        "features = [\"Country\", \"Year\", \"Sex\", \"Age\", \"Suicides_No\", \"Population\", \"Suicides/100K\", \n",
        "            \"Country_Year\", \"HDI\", \"GDP\", \"GDP_Per_Capita\", \"Generation\"]\n",
        "\n",
        "\n",
        "# Read data into features\n",
        "data = pd.read_csv(data_url, names=features, sep=',', engine='python', na_values='?', skiprows=1)\n",
        "\n",
        "# For testing, view table\n",
        "#data.head()\n",
        "data.tail()"
      ],
      "execution_count": 6,
      "outputs": [
        {
          "output_type": "execute_result",
          "data": {
            "text/html": [
              "<div>\n",
              "<style scoped>\n",
              "    .dataframe tbody tr th:only-of-type {\n",
              "        vertical-align: middle;\n",
              "    }\n",
              "\n",
              "    .dataframe tbody tr th {\n",
              "        vertical-align: top;\n",
              "    }\n",
              "\n",
              "    .dataframe thead th {\n",
              "        text-align: right;\n",
              "    }\n",
              "</style>\n",
              "<table border=\"1\" class=\"dataframe\">\n",
              "  <thead>\n",
              "    <tr style=\"text-align: right;\">\n",
              "      <th></th>\n",
              "      <th>Country</th>\n",
              "      <th>Year</th>\n",
              "      <th>Sex</th>\n",
              "      <th>Age</th>\n",
              "      <th>Suicides_No</th>\n",
              "      <th>Population</th>\n",
              "      <th>Suicides/100K</th>\n",
              "      <th>Country_Year</th>\n",
              "      <th>HDI</th>\n",
              "      <th>GDP</th>\n",
              "      <th>GDP_Per_Capita</th>\n",
              "      <th>Generation</th>\n",
              "    </tr>\n",
              "  </thead>\n",
              "  <tbody>\n",
              "    <tr>\n",
              "      <th>27815</th>\n",
              "      <td>Uzbekistan</td>\n",
              "      <td>2014</td>\n",
              "      <td>female</td>\n",
              "      <td>35-54 years</td>\n",
              "      <td>107</td>\n",
              "      <td>3620833</td>\n",
              "      <td>2.96</td>\n",
              "      <td>Uzbekistan2014</td>\n",
              "      <td>0.675</td>\n",
              "      <td>63,067,077,179</td>\n",
              "      <td>2309</td>\n",
              "      <td>Generation X</td>\n",
              "    </tr>\n",
              "    <tr>\n",
              "      <th>27816</th>\n",
              "      <td>Uzbekistan</td>\n",
              "      <td>2014</td>\n",
              "      <td>female</td>\n",
              "      <td>75+ years</td>\n",
              "      <td>9</td>\n",
              "      <td>348465</td>\n",
              "      <td>2.58</td>\n",
              "      <td>Uzbekistan2014</td>\n",
              "      <td>0.675</td>\n",
              "      <td>63,067,077,179</td>\n",
              "      <td>2309</td>\n",
              "      <td>Silent</td>\n",
              "    </tr>\n",
              "    <tr>\n",
              "      <th>27817</th>\n",
              "      <td>Uzbekistan</td>\n",
              "      <td>2014</td>\n",
              "      <td>male</td>\n",
              "      <td>5-14 years</td>\n",
              "      <td>60</td>\n",
              "      <td>2762158</td>\n",
              "      <td>2.17</td>\n",
              "      <td>Uzbekistan2014</td>\n",
              "      <td>0.675</td>\n",
              "      <td>63,067,077,179</td>\n",
              "      <td>2309</td>\n",
              "      <td>Generation Z</td>\n",
              "    </tr>\n",
              "    <tr>\n",
              "      <th>27818</th>\n",
              "      <td>Uzbekistan</td>\n",
              "      <td>2014</td>\n",
              "      <td>female</td>\n",
              "      <td>5-14 years</td>\n",
              "      <td>44</td>\n",
              "      <td>2631600</td>\n",
              "      <td>1.67</td>\n",
              "      <td>Uzbekistan2014</td>\n",
              "      <td>0.675</td>\n",
              "      <td>63,067,077,179</td>\n",
              "      <td>2309</td>\n",
              "      <td>Generation Z</td>\n",
              "    </tr>\n",
              "    <tr>\n",
              "      <th>27819</th>\n",
              "      <td>Uzbekistan</td>\n",
              "      <td>2014</td>\n",
              "      <td>female</td>\n",
              "      <td>55-74 years</td>\n",
              "      <td>21</td>\n",
              "      <td>1438935</td>\n",
              "      <td>1.46</td>\n",
              "      <td>Uzbekistan2014</td>\n",
              "      <td>0.675</td>\n",
              "      <td>63,067,077,179</td>\n",
              "      <td>2309</td>\n",
              "      <td>Boomers</td>\n",
              "    </tr>\n",
              "  </tbody>\n",
              "</table>\n",
              "</div>"
            ],
            "text/plain": [
              "          Country  Year     Sex  ...             GDP  GDP_Per_Capita    Generation\n",
              "27815  Uzbekistan  2014  female  ...  63,067,077,179            2309  Generation X\n",
              "27816  Uzbekistan  2014  female  ...  63,067,077,179            2309        Silent\n",
              "27817  Uzbekistan  2014    male  ...  63,067,077,179            2309  Generation Z\n",
              "27818  Uzbekistan  2014  female  ...  63,067,077,179            2309  Generation Z\n",
              "27819  Uzbekistan  2014  female  ...  63,067,077,179            2309       Boomers\n",
              "\n",
              "[5 rows x 12 columns]"
            ]
          },
          "metadata": {
            "tags": []
          },
          "execution_count": 6
        }
      ]
    },
    {
      "cell_type": "markdown",
      "metadata": {
        "id": "5v4RIsx68drR",
        "colab_type": "text"
      },
      "source": [
        "**Data Normalization**"
      ]
    },
    {
      "cell_type": "code",
      "metadata": {
        "id": "pZ7i4-7bWU7x",
        "colab_type": "code",
        "outputId": "c5d92f8e-2564-4a2e-961a-b16e8c4ac245",
        "colab": {
          "base_uri": "https://localhost:8080/",
          "height": 204
        }
      },
      "source": [
        "# Data normalization\n",
        "\n",
        "# Drop Country, Year, Country_Year, HDI\n",
        "data.drop(['Country', 'Year', 'Country_Year', 'HDI'], axis=1, inplace=True)\n",
        "\n",
        "# Replace Generation with int values\n",
        "data.Generation.replace(['Boomers', 'Generation X', 'Generation Z', 'G.I. Generation', 'Millenials', 'Silent'], \n",
        "                        ['0', '1', '2', '3', '4', '5'], inplace=True)\n",
        "\n",
        "# Replace male with 0, female with 1\n",
        "data.Sex.replace(['male', 'female'], ['0', '1'], inplace=True)\n",
        "\n",
        "# Remove commas from gdp value\n",
        "data['GDP'] = data['GDP'].str.replace(',','')\n",
        "\n",
        "# Used for finding averages of age range\n",
        "def means(arr):\n",
        "    return str(np.array(arr).mean())\n",
        "\n",
        "# Replace age ranges with averages\n",
        "data.Age.replace(['15-24 years', '25-34 years', '35-54 years', '5-14 years', '55-74 years', '75+ years'], \n",
        "                 [means([15, 24]), means([25, 34]), means([35, 54]), \n",
        "                  means([5, 14]), means([55, 74]), means([75])], inplace=True)\n",
        "\n",
        "# Converting string values to numeric\n",
        "pd.to_numeric(data['Generation']);\n",
        "pd.to_numeric(data['Sex']);\n",
        "pd.to_numeric(data['GDP']);\n",
        "\n",
        "\n",
        "data.head()"
      ],
      "execution_count": 3,
      "outputs": [
        {
          "output_type": "execute_result",
          "data": {
            "text/html": [
              "<div>\n",
              "<style scoped>\n",
              "    .dataframe tbody tr th:only-of-type {\n",
              "        vertical-align: middle;\n",
              "    }\n",
              "\n",
              "    .dataframe tbody tr th {\n",
              "        vertical-align: top;\n",
              "    }\n",
              "\n",
              "    .dataframe thead th {\n",
              "        text-align: right;\n",
              "    }\n",
              "</style>\n",
              "<table border=\"1\" class=\"dataframe\">\n",
              "  <thead>\n",
              "    <tr style=\"text-align: right;\">\n",
              "      <th></th>\n",
              "      <th>Sex</th>\n",
              "      <th>Age</th>\n",
              "      <th>Suicides_No</th>\n",
              "      <th>Population</th>\n",
              "      <th>Suicides/100K</th>\n",
              "      <th>GDP</th>\n",
              "      <th>GDP_Per_Capita</th>\n",
              "      <th>Generation</th>\n",
              "    </tr>\n",
              "  </thead>\n",
              "  <tbody>\n",
              "    <tr>\n",
              "      <th>0</th>\n",
              "      <td>0</td>\n",
              "      <td>19.5</td>\n",
              "      <td>21</td>\n",
              "      <td>312900</td>\n",
              "      <td>6.71</td>\n",
              "      <td>2156624900</td>\n",
              "      <td>796</td>\n",
              "      <td>1</td>\n",
              "    </tr>\n",
              "    <tr>\n",
              "      <th>1</th>\n",
              "      <td>0</td>\n",
              "      <td>44.5</td>\n",
              "      <td>16</td>\n",
              "      <td>308000</td>\n",
              "      <td>5.19</td>\n",
              "      <td>2156624900</td>\n",
              "      <td>796</td>\n",
              "      <td>5</td>\n",
              "    </tr>\n",
              "    <tr>\n",
              "      <th>2</th>\n",
              "      <td>1</td>\n",
              "      <td>19.5</td>\n",
              "      <td>14</td>\n",
              "      <td>289700</td>\n",
              "      <td>4.83</td>\n",
              "      <td>2156624900</td>\n",
              "      <td>796</td>\n",
              "      <td>1</td>\n",
              "    </tr>\n",
              "    <tr>\n",
              "      <th>3</th>\n",
              "      <td>0</td>\n",
              "      <td>75.0</td>\n",
              "      <td>1</td>\n",
              "      <td>21800</td>\n",
              "      <td>4.59</td>\n",
              "      <td>2156624900</td>\n",
              "      <td>796</td>\n",
              "      <td>3</td>\n",
              "    </tr>\n",
              "    <tr>\n",
              "      <th>4</th>\n",
              "      <td>0</td>\n",
              "      <td>29.5</td>\n",
              "      <td>9</td>\n",
              "      <td>274300</td>\n",
              "      <td>3.28</td>\n",
              "      <td>2156624900</td>\n",
              "      <td>796</td>\n",
              "      <td>0</td>\n",
              "    </tr>\n",
              "  </tbody>\n",
              "</table>\n",
              "</div>"
            ],
            "text/plain": [
              "  Sex   Age  Suicides_No  ...         GDP  GDP_Per_Capita Generation\n",
              "0   0  19.5           21  ...  2156624900             796          1\n",
              "1   0  44.5           16  ...  2156624900             796          5\n",
              "2   1  19.5           14  ...  2156624900             796          1\n",
              "3   0  75.0            1  ...  2156624900             796          3\n",
              "4   0  29.5            9  ...  2156624900             796          0\n",
              "\n",
              "[5 rows x 8 columns]"
            ]
          },
          "metadata": {
            "tags": []
          },
          "execution_count": 3
        }
      ]
    },
    {
      "cell_type": "markdown",
      "metadata": {
        "id": "l_vl6PkU8X2-",
        "colab_type": "text"
      },
      "source": [
        "**Classification**"
      ]
    },
    {
      "cell_type": "code",
      "metadata": {
        "id": "XS_LxhdZTcoB",
        "colab_type": "code",
        "outputId": "0a8154ed-10d2-4157-b865-c245f9cf3feb",
        "colab": {
          "base_uri": "https://localhost:8080/",
          "height": 34
        }
      },
      "source": [
        "# Classification\n",
        "# Using classification from: https://www.kaggle.com/elcaiseri/classification-of-high-low-suicide-rates\n",
        "\n",
        "data['Fatality_Rate'] = np.where(data['Suicides/100K']>data['Suicides/100K'].mean(), 1, 0)\n",
        "\n",
        "\n",
        "X = np.array(data.drop(['Fatality_Rate', 'Suicides/100K'], 1))\n",
        "y = np.array(data.Fatality_Rate)\n",
        "\n",
        "X_train, X_test, y_train, y_test = train_test_split(X, y, test_size=0.20, random_state=42)\n",
        "\n",
        "model = RandomForestClassifier(n_estimators=100, random_state=42)\n",
        "model.fit(X_train, y_train)\n",
        "y_pred = model.predict(X_test)\n",
        "\n",
        "print(\"Model accuracy is: {0:.2f}\".format(accuracy_score(y_test, y_pred) * 100))\n"
      ],
      "execution_count": 4,
      "outputs": [
        {
          "output_type": "stream",
          "text": [
            "Model accuracy is: 98.56\n"
          ],
          "name": "stdout"
        }
      ]
    },
    {
      "cell_type": "code",
      "metadata": {
        "id": "8-9lcZqrUb8m",
        "colab_type": "code",
        "outputId": "d33d5fe2-91ce-42d1-c063-840211e754ed",
        "colab": {
          "base_uri": "https://localhost:8080/",
          "height": 285
        }
      },
      "source": [
        "mat = confusion_matrix(y_test, y_pred)\n",
        "\n",
        "sns.heatmap(mat, square=True, annot=True, cbar=True)\n",
        "\n",
        "plt.xlabel('predicted value')\n",
        "plt.ylabel('true value');"
      ],
      "execution_count": 5,
      "outputs": [
        {
          "output_type": "display_data",
          "data": {
            "image/png": "[encoded data removed]",
            "text/plain": [
              "<Figure size 432x288 with 2 Axes>"
            ]
          },
          "metadata": {
            "tags": [],
            "needs_background": "light"
          }
        }
      ]
    },
    {
      "cell_type": "markdown",
      "metadata": {
        "id": "2fygMt1G8G-C",
        "colab_type": "text"
      },
      "source": [
        "**Classification Analysis**\n",
        "\n"
      ]
    }
  ]
}