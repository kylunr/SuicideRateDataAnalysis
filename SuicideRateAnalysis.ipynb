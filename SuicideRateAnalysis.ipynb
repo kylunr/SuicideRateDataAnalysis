{
  "nbformat": 4,
  "nbformat_minor": 0,
  "metadata": {
    "colab": {
      "name": "SuicideRateAnalysis.ipynb",
      "provenance": [],
      "collapsed_sections": []
    },
    "kernelspec": {
      "name": "python3",
      "display_name": "Python 3"
    }
  },
  "cells": [
    {
      "cell_type": "markdown",
      "metadata": {
        "id": "Wp-gD3Qu6XXS",
        "colab_type": "text"
      },
      "source": [
        "# **Imports**"
      ]
    },
    {
      "cell_type": "code",
      "metadata": {
        "id": "VKytYAGaEITM",
        "colab_type": "code",
        "colab": {}
      },
      "source": [
        "import pandas as pd\n",
        "import numpy as np\n",
        "\n",
        "import matplotlib.pyplot as plt\n",
        "import matplotlib as mpl\n",
        "\n",
        "from sklearn.ensemble import RandomForestClassifier\n",
        "from sklearn.metrics import mean_absolute_error, accuracy_score\n",
        "from sklearn.metrics import classification_report, confusion_matrix\n",
        "import sklearn.metrics as metrics\n",
        "from sklearn.model_selection import train_test_split\n",
        "\n",
        "import seaborn as sns; sns.set()\n",
        "\n",
        "import pylab\n",
        "from statsmodels.stats import proportion"
      ],
      "execution_count": 0,
      "outputs": []
    },
    {
      "cell_type": "markdown",
      "metadata": {
        "id": "mY1ClhP4Tk_M",
        "colab_type": "text"
      },
      "source": [
        "# **Dataset**"
      ]
    },
    {
      "cell_type": "code",
      "metadata": {
        "id": "niBV8HxvEdyC",
        "colab_type": "code",
        "outputId": "f8ce395d-2b22-447f-dad6-f468d34e1326",
        "colab": {
          "base_uri": "https://localhost:8080/",
          "height": 343
        }
      },
      "source": [
        "# Url to data hosted on github\n",
        "# Original data source: https://www.kaggle.com/russellyates88/suicide-rates-overview-1985-to-2016?select=master.csv\n",
        "data_url = 'https://raw.githubusercontent.com/KylunR/SuicideRateDataAnalysis/master/data.csv'\n",
        "\n",
        "\n",
        "# Columns of data to read into\n",
        "features = [\"Country\", \"Year\", \"Sex\", \"Age\", \"Suicides_No\", \"Population\", \"Suicides/100K\", \n",
        "            \"Country_Year\", \"HDI\", \"GDP\", \"GDP_Per_Capita\", \"Generation\"]\n",
        "\n",
        "\n",
        "# Read data into features\n",
        "data = pd.read_csv(data_url, names=features, sep=',', engine='python', na_values='?', skiprows=1)\n",
        "\n",
        "# For testing, view table\n",
        "#data.head()\n",
        "data.tail()"
      ],
      "execution_count": 97,
      "outputs": [
        {
          "output_type": "execute_result",
          "data": {
            "text/html": [
              "<div>\n",
              "<style scoped>\n",
              "    .dataframe tbody tr th:only-of-type {\n",
              "        vertical-align: middle;\n",
              "    }\n",
              "\n",
              "    .dataframe tbody tr th {\n",
              "        vertical-align: top;\n",
              "    }\n",
              "\n",
              "    .dataframe thead th {\n",
              "        text-align: right;\n",
              "    }\n",
              "</style>\n",
              "<table border=\"1\" class=\"dataframe\">\n",
              "  <thead>\n",
              "    <tr style=\"text-align: right;\">\n",
              "      <th></th>\n",
              "      <th>Country</th>\n",
              "      <th>Year</th>\n",
              "      <th>Sex</th>\n",
              "      <th>Age</th>\n",
              "      <th>Suicides_No</th>\n",
              "      <th>Population</th>\n",
              "      <th>Suicides/100K</th>\n",
              "      <th>Country_Year</th>\n",
              "      <th>HDI</th>\n",
              "      <th>GDP</th>\n",
              "      <th>GDP_Per_Capita</th>\n",
              "      <th>Generation</th>\n",
              "    </tr>\n",
              "  </thead>\n",
              "  <tbody>\n",
              "    <tr>\n",
              "      <th>27815</th>\n",
              "      <td>Uzbekistan</td>\n",
              "      <td>2014</td>\n",
              "      <td>female</td>\n",
              "      <td>35-54 years</td>\n",
              "      <td>107</td>\n",
              "      <td>3620833</td>\n",
              "      <td>2.96</td>\n",
              "      <td>Uzbekistan2014</td>\n",
              "      <td>0.675</td>\n",
              "      <td>63,067,077,179</td>\n",
              "      <td>2309</td>\n",
              "      <td>Generation X</td>\n",
              "    </tr>\n",
              "    <tr>\n",
              "      <th>27816</th>\n",
              "      <td>Uzbekistan</td>\n",
              "      <td>2014</td>\n",
              "      <td>female</td>\n",
              "      <td>75+ years</td>\n",
              "      <td>9</td>\n",
              "      <td>348465</td>\n",
              "      <td>2.58</td>\n",
              "      <td>Uzbekistan2014</td>\n",
              "      <td>0.675</td>\n",
              "      <td>63,067,077,179</td>\n",
              "      <td>2309</td>\n",
              "      <td>Silent</td>\n",
              "    </tr>\n",
              "    <tr>\n",
              "      <th>27817</th>\n",
              "      <td>Uzbekistan</td>\n",
              "      <td>2014</td>\n",
              "      <td>male</td>\n",
              "      <td>5-14 years</td>\n",
              "      <td>60</td>\n",
              "      <td>2762158</td>\n",
              "      <td>2.17</td>\n",
              "      <td>Uzbekistan2014</td>\n",
              "      <td>0.675</td>\n",
              "      <td>63,067,077,179</td>\n",
              "      <td>2309</td>\n",
              "      <td>Generation Z</td>\n",
              "    </tr>\n",
              "    <tr>\n",
              "      <th>27818</th>\n",
              "      <td>Uzbekistan</td>\n",
              "      <td>2014</td>\n",
              "      <td>female</td>\n",
              "      <td>5-14 years</td>\n",
              "      <td>44</td>\n",
              "      <td>2631600</td>\n",
              "      <td>1.67</td>\n",
              "      <td>Uzbekistan2014</td>\n",
              "      <td>0.675</td>\n",
              "      <td>63,067,077,179</td>\n",
              "      <td>2309</td>\n",
              "      <td>Generation Z</td>\n",
              "    </tr>\n",
              "    <tr>\n",
              "      <th>27819</th>\n",
              "      <td>Uzbekistan</td>\n",
              "      <td>2014</td>\n",
              "      <td>female</td>\n",
              "      <td>55-74 years</td>\n",
              "      <td>21</td>\n",
              "      <td>1438935</td>\n",
              "      <td>1.46</td>\n",
              "      <td>Uzbekistan2014</td>\n",
              "      <td>0.675</td>\n",
              "      <td>63,067,077,179</td>\n",
              "      <td>2309</td>\n",
              "      <td>Boomers</td>\n",
              "    </tr>\n",
              "  </tbody>\n",
              "</table>\n",
              "</div>"
            ],
            "text/plain": [
              "          Country  Year     Sex  ...             GDP  GDP_Per_Capita    Generation\n",
              "27815  Uzbekistan  2014  female  ...  63,067,077,179            2309  Generation X\n",
              "27816  Uzbekistan  2014  female  ...  63,067,077,179            2309        Silent\n",
              "27817  Uzbekistan  2014    male  ...  63,067,077,179            2309  Generation Z\n",
              "27818  Uzbekistan  2014  female  ...  63,067,077,179            2309  Generation Z\n",
              "27819  Uzbekistan  2014  female  ...  63,067,077,179            2309       Boomers\n",
              "\n",
              "[5 rows x 12 columns]"
            ]
          },
          "metadata": {
            "tags": []
          },
          "execution_count": 97
        }
      ]
    },
    {
      "cell_type": "markdown",
      "metadata": {
        "id": "1Lqsabui5Njh",
        "colab_type": "text"
      },
      "source": [
        "# **Data Visualization**"
      ]
    },
    {
      "cell_type": "markdown",
      "metadata": {
        "id": "4Omu_StU8oAs",
        "colab_type": "text"
      },
      "source": [
        "**Suicide Rate for Age Groups**"
      ]
    },
    {
      "cell_type": "code",
      "metadata": {
        "id": "81ZwhmCg8r7k",
        "colab_type": "code",
        "colab": {
          "base_uri": "https://localhost:8080/",
          "height": 493
        },
        "outputId": "baaf03cc-30bd-404f-9027-74d91776d679"
      },
      "source": [
        "age = data.groupby(['Year','Age']).agg({'Population' : 'sum','Suicides_No': 'sum'}).reset_index()\n",
        "age['Suicides_Per_Capita'] = age.Suicides_No / age.Population * 100000\n",
        "\n",
        "\n",
        "def age_plot(agegroup):\n",
        "    data1 = age.loc[age['Age'] == agegroup,['Year','Suicides_Per_Capita']]\n",
        "    _ = plt.plot(data1['Year'],data1['Suicides_Per_Capita'])\n",
        "\n",
        "agegroups = [ '75+ years', '55-74 years', '35-54 years', '25-34 years', '15-24 years', '5-14 years']\n",
        "\n",
        "plt.figure(figsize = (15,8))\n",
        "\n",
        "for i in agegroups:\n",
        "    age_plot(i)\n",
        "_ = plt.legend(agegroups)\n",
        "_ = plt.title('Suicides per 100K of population \\n Split by Age Group', fontweight='bold')"
      ],
      "execution_count": 98,
      "outputs": [
        {
          "output_type": "display_data",
          "data": {
            "image/png": "[encoded data removed]",
            "text/plain": [
              "<Figure size 1080x576 with 1 Axes>"
            ]
          },
          "metadata": {
            "tags": []
          }
        }
      ]
    },
    {
      "cell_type": "markdown",
      "metadata": {
        "id": "5Kh1KHHi9VKD",
        "colab_type": "text"
      },
      "source": [
        "This graph shows that suicide rate is higher amongst older ages and each age group decreases in suicide rate.  \n",
        "\n",
        "I found this data interesting, I would like to further research how this has changed in the recent years."
      ]
    },
    {
      "cell_type": "markdown",
      "metadata": {
        "id": "qXVew7eh6LKn",
        "colab_type": "text"
      },
      "source": [
        "**Suicide Rate for Male vs. Female**"
      ]
    },
    {
      "cell_type": "code",
      "metadata": {
        "id": "GQbjDMEe5RTv",
        "colab_type": "code",
        "colab": {
          "base_uri": "https://localhost:8080/",
          "height": 487
        },
        "outputId": "2a122717-47cd-43c1-e628-c616fac1e5fb"
      },
      "source": [
        "# split by men and woman\n",
        "gender = data.groupby(['Year','Sex']).agg({'Suicides_No' : 'sum','Population' : 'sum'}).reset_index()\n",
        "gender['Suicides_Per_Capita'] = gender.Suicides_No / gender.Population * 100000\n",
        "\n",
        "def gender_plot(sex): \n",
        "    data = gender.loc[gender['Sex'] == sex,['Year','Suicides_Per_Capita']]\n",
        "    plt.plot(data['Year'],data['Suicides_Per_Capita'])\n",
        "\n",
        "plt.figure(figsize = (15,8))\n",
        "for i in ('male','female'):\n",
        "    gender_plot(i)\n",
        "\n",
        "_ = plt.legend(('male','female'))\n",
        "_ = plt.title('Suicides per 100K of population \\n Split by Gender', fontweight='bold')"
      ],
      "execution_count": 99,
      "outputs": [
        {
          "output_type": "display_data",
          "data": {
            "image/png": "[encoded data removed]",
            "text/plain": [
              "<Figure size 1080x576 with 1 Axes>"
            ]
          },
          "metadata": {
            "tags": []
          }
        }
      ]
    },
    {
      "cell_type": "markdown",
      "metadata": {
        "id": "idhAmczW6Uik",
        "colab_type": "text"
      },
      "source": [
        "This graph shows the suicide is much more prominent for the male population when compared to the female population.\n",
        "\n",
        "Male suicide rate appears to rise and fall many times over this time period with it ending on a rise.  While female suicide rate has mostly stayed the same and has even slightly decreased over the time period."
      ]
    },
    {
      "cell_type": "markdown",
      "metadata": {
        "id": "5v4RIsx68drR",
        "colab_type": "text"
      },
      "source": [
        "# **Data Normalization**"
      ]
    },
    {
      "cell_type": "code",
      "metadata": {
        "id": "pZ7i4-7bWU7x",
        "colab_type": "code",
        "outputId": "74516442-8781-4c1b-8e45-78f12ae10896",
        "colab": {
          "base_uri": "https://localhost:8080/",
          "height": 419
        }
      },
      "source": [
        "# Data normalization\n",
        "\n",
        "# Drop Country, Year, Country_Year, HDI\n",
        "data.drop(['Country', 'Year', 'Country_Year', 'HDI'], axis=1, inplace=True)\n",
        "\n",
        "# Replace Generation with int values\n",
        "data.Generation.replace(['Boomers', 'Generation X', 'Generation Z', 'G.I. Generation', 'Millenials', 'Silent'], \n",
        "                        ['0', '1', '2', '3', '4', '5'], inplace=True)\n",
        "\n",
        "# Replace male with 0, female with 1\n",
        "data.Sex.replace(['male', 'female'], ['0', '1'], inplace=True)\n",
        "\n",
        "# Remove commas from gdp value\n",
        "data['GDP'] = data['GDP'].str.replace(',','')\n",
        "\n",
        "# Used for finding averages of age range\n",
        "def means(arr):\n",
        "    return str(np.array(arr).mean())\n",
        "\n",
        "# Replace age ranges with averages\n",
        "data.Age.replace(['15-24 years', '25-34 years', '35-54 years', '5-14 years', '55-74 years', '75+ years'], \n",
        "                 [means([15, 24]), means([25, 34]), means([35, 54]), \n",
        "                  means([5, 14]), means([55, 74]), means([75])], inplace=True)\n",
        "\n",
        "# Converting string values to numeric\n",
        "pd.to_numeric(data['Generation']);\n",
        "pd.to_numeric(data['Sex']);\n",
        "pd.to_numeric(data['GDP']);\n",
        "\n",
        "# For testing\n",
        "data1 = data.copy()\n",
        "\n",
        "data1.head(100000)"
      ],
      "execution_count": 100,
      "outputs": [
        {
          "output_type": "execute_result",
          "data": {
            "text/html": [
              "<div>\n",
              "<style scoped>\n",
              "    .dataframe tbody tr th:only-of-type {\n",
              "        vertical-align: middle;\n",
              "    }\n",
              "\n",
              "    .dataframe tbody tr th {\n",
              "        vertical-align: top;\n",
              "    }\n",
              "\n",
              "    .dataframe thead th {\n",
              "        text-align: right;\n",
              "    }\n",
              "</style>\n",
              "<table border=\"1\" class=\"dataframe\">\n",
              "  <thead>\n",
              "    <tr style=\"text-align: right;\">\n",
              "      <th></th>\n",
              "      <th>Sex</th>\n",
              "      <th>Age</th>\n",
              "      <th>Suicides_No</th>\n",
              "      <th>Population</th>\n",
              "      <th>Suicides/100K</th>\n",
              "      <th>GDP</th>\n",
              "      <th>GDP_Per_Capita</th>\n",
              "      <th>Generation</th>\n",
              "    </tr>\n",
              "  </thead>\n",
              "  <tbody>\n",
              "    <tr>\n",
              "      <th>0</th>\n",
              "      <td>0</td>\n",
              "      <td>19.5</td>\n",
              "      <td>21</td>\n",
              "      <td>312900</td>\n",
              "      <td>6.71</td>\n",
              "      <td>2156624900</td>\n",
              "      <td>796</td>\n",
              "      <td>1</td>\n",
              "    </tr>\n",
              "    <tr>\n",
              "      <th>1</th>\n",
              "      <td>0</td>\n",
              "      <td>44.5</td>\n",
              "      <td>16</td>\n",
              "      <td>308000</td>\n",
              "      <td>5.19</td>\n",
              "      <td>2156624900</td>\n",
              "      <td>796</td>\n",
              "      <td>5</td>\n",
              "    </tr>\n",
              "    <tr>\n",
              "      <th>2</th>\n",
              "      <td>1</td>\n",
              "      <td>19.5</td>\n",
              "      <td>14</td>\n",
              "      <td>289700</td>\n",
              "      <td>4.83</td>\n",
              "      <td>2156624900</td>\n",
              "      <td>796</td>\n",
              "      <td>1</td>\n",
              "    </tr>\n",
              "    <tr>\n",
              "      <th>3</th>\n",
              "      <td>0</td>\n",
              "      <td>75.0</td>\n",
              "      <td>1</td>\n",
              "      <td>21800</td>\n",
              "      <td>4.59</td>\n",
              "      <td>2156624900</td>\n",
              "      <td>796</td>\n",
              "      <td>3</td>\n",
              "    </tr>\n",
              "    <tr>\n",
              "      <th>4</th>\n",
              "      <td>0</td>\n",
              "      <td>29.5</td>\n",
              "      <td>9</td>\n",
              "      <td>274300</td>\n",
              "      <td>3.28</td>\n",
              "      <td>2156624900</td>\n",
              "      <td>796</td>\n",
              "      <td>0</td>\n",
              "    </tr>\n",
              "    <tr>\n",
              "      <th>...</th>\n",
              "      <td>...</td>\n",
              "      <td>...</td>\n",
              "      <td>...</td>\n",
              "      <td>...</td>\n",
              "      <td>...</td>\n",
              "      <td>...</td>\n",
              "      <td>...</td>\n",
              "      <td>...</td>\n",
              "    </tr>\n",
              "    <tr>\n",
              "      <th>27815</th>\n",
              "      <td>1</td>\n",
              "      <td>44.5</td>\n",
              "      <td>107</td>\n",
              "      <td>3620833</td>\n",
              "      <td>2.96</td>\n",
              "      <td>63067077179</td>\n",
              "      <td>2309</td>\n",
              "      <td>1</td>\n",
              "    </tr>\n",
              "    <tr>\n",
              "      <th>27816</th>\n",
              "      <td>1</td>\n",
              "      <td>75.0</td>\n",
              "      <td>9</td>\n",
              "      <td>348465</td>\n",
              "      <td>2.58</td>\n",
              "      <td>63067077179</td>\n",
              "      <td>2309</td>\n",
              "      <td>5</td>\n",
              "    </tr>\n",
              "    <tr>\n",
              "      <th>27817</th>\n",
              "      <td>0</td>\n",
              "      <td>9.5</td>\n",
              "      <td>60</td>\n",
              "      <td>2762158</td>\n",
              "      <td>2.17</td>\n",
              "      <td>63067077179</td>\n",
              "      <td>2309</td>\n",
              "      <td>2</td>\n",
              "    </tr>\n",
              "    <tr>\n",
              "      <th>27818</th>\n",
              "      <td>1</td>\n",
              "      <td>9.5</td>\n",
              "      <td>44</td>\n",
              "      <td>2631600</td>\n",
              "      <td>1.67</td>\n",
              "      <td>63067077179</td>\n",
              "      <td>2309</td>\n",
              "      <td>2</td>\n",
              "    </tr>\n",
              "    <tr>\n",
              "      <th>27819</th>\n",
              "      <td>1</td>\n",
              "      <td>64.5</td>\n",
              "      <td>21</td>\n",
              "      <td>1438935</td>\n",
              "      <td>1.46</td>\n",
              "      <td>63067077179</td>\n",
              "      <td>2309</td>\n",
              "      <td>0</td>\n",
              "    </tr>\n",
              "  </tbody>\n",
              "</table>\n",
              "<p>27820 rows × 8 columns</p>\n",
              "</div>"
            ],
            "text/plain": [
              "      Sex   Age  Suicides_No  ...          GDP  GDP_Per_Capita Generation\n",
              "0       0  19.5           21  ...   2156624900             796          1\n",
              "1       0  44.5           16  ...   2156624900             796          5\n",
              "2       1  19.5           14  ...   2156624900             796          1\n",
              "3       0  75.0            1  ...   2156624900             796          3\n",
              "4       0  29.5            9  ...   2156624900             796          0\n",
              "...    ..   ...          ...  ...          ...             ...        ...\n",
              "27815   1  44.5          107  ...  63067077179            2309          1\n",
              "27816   1  75.0            9  ...  63067077179            2309          5\n",
              "27817   0   9.5           60  ...  63067077179            2309          2\n",
              "27818   1   9.5           44  ...  63067077179            2309          2\n",
              "27819   1  64.5           21  ...  63067077179            2309          0\n",
              "\n",
              "[27820 rows x 8 columns]"
            ]
          },
          "metadata": {
            "tags": []
          },
          "execution_count": 100
        }
      ]
    },
    {
      "cell_type": "markdown",
      "metadata": {
        "id": "l_vl6PkU8X2-",
        "colab_type": "text"
      },
      "source": [
        "# **Classification**"
      ]
    },
    {
      "cell_type": "code",
      "metadata": {
        "id": "XS_LxhdZTcoB",
        "colab_type": "code",
        "outputId": "0c615ca8-f6a6-4584-8954-e7f0bdfaeb59",
        "colab": {
          "base_uri": "https://localhost:8080/",
          "height": 153
        }
      },
      "source": [
        "# Classification\n",
        "# Using classification from: https://www.kaggle.com/elcaiseri/classification-of-high-low-suicide-rates\n",
        "\n",
        "data['Fatality_Rate'] = np.where(data['Suicides/100K']>data['Suicides/100K'].mean(), 1, 0)\n",
        "\n",
        "X = np.array(data.drop(['Fatality_Rate', 'Suicides/100K'], 1))\n",
        "y = np.array(data.Fatality_Rate)\n",
        "\n",
        "print(X)\n",
        "\n",
        "X_train, X_test, y_train, y_test = train_test_split(X, y, test_size=0.20, random_state=42)\n",
        "\n",
        "model = RandomForestClassifier(n_estimators=100, random_state=42)\n",
        "model.fit(X_train, y_train)\n",
        "y_pred = model.predict(X_test)\n",
        "\n",
        "print(\"Model accuracy is: {0:.2f}\".format(accuracy_score(y_test, y_pred) * 100))"
      ],
      "execution_count": 101,
      "outputs": [
        {
          "output_type": "stream",
          "text": [
            "[['0' '19.5' 21 ... '2156624900' 796 '1']\n",
            " ['0' '44.5' 16 ... '2156624900' 796 '5']\n",
            " ['1' '19.5' 14 ... '2156624900' 796 '1']\n",
            " ...\n",
            " ['0' '9.5' 60 ... '63067077179' 2309 '2']\n",
            " ['1' '9.5' 44 ... '63067077179' 2309 '2']\n",
            " ['1' '64.5' 21 ... '63067077179' 2309 '0']]\n",
            "Model accuracy is: 98.56\n"
          ],
          "name": "stdout"
        }
      ]
    },
    {
      "cell_type": "code",
      "metadata": {
        "id": "8-9lcZqrUb8m",
        "colab_type": "code",
        "outputId": "eba33e78-0b27-4a80-9176-cb4171c94301",
        "colab": {
          "base_uri": "https://localhost:8080/",
          "height": 285
        }
      },
      "source": [
        "mat = confusion_matrix(y_test, y_pred)\n",
        "\n",
        "sns.heatmap(mat, square=True, annot=True, cbar=True)\n",
        "\n",
        "plt.xlabel('predicted value')\n",
        "plt.ylabel('true value');"
      ],
      "execution_count": 102,
      "outputs": [
        {
          "output_type": "display_data",
          "data": {
            "image/png": "[encoded data removed]",
            "text/plain": [
              "<Figure size 432x288 with 2 Axes>"
            ]
          },
          "metadata": {
            "tags": []
          }
        }
      ]
    },
    {
      "cell_type": "code",
      "metadata": {
        "id": "j6FtNsrXVHn2",
        "colab_type": "code",
        "colab": {
          "base_uri": "https://localhost:8080/",
          "height": 34
        },
        "outputId": "f3c35068-5523-473b-ad5a-ed5a3b6835b7"
      },
      "source": [
        "print(X_test[:, 0])"
      ],
      "execution_count": 103,
      "outputs": [
        {
          "output_type": "stream",
          "text": [
            "['0' '1' '1' ... '0' '1' '0']\n"
          ],
          "name": "stdout"
        }
      ]
    },
    {
      "cell_type": "code",
      "metadata": {
        "id": "UQuR_mz4UvVR",
        "colab_type": "code",
        "colab": {
          "base_uri": "https://localhost:8080/",
          "height": 737
        },
        "outputId": "4edfa87d-ec85-4618-efff-923401950c62"
      },
      "source": [
        "scores = model.predict_proba(X_test)[:, 1]\n",
        "d = {'target' : y_test,\n",
        "     'score' : scores,\n",
        "     'prediction' : y_pred,\n",
        "     'gender' : X_test[:, 0]}\n",
        "\n",
        "print(len(y_test))\n",
        "print(len(scores))\n",
        "print(len(y_pred))\n",
        "print(len(X_test[:,0]))\n",
        "\n",
        "\n",
        "marginals = pd.DataFrame(data=d, columns=['target', 'score', 'prediction', 'gender'])\n",
        "marginals.head(20)"
      ],
      "execution_count": 104,
      "outputs": [
        {
          "output_type": "stream",
          "text": [
            "5564\n",
            "5564\n",
            "5564\n",
            "5564\n"
          ],
          "name": "stdout"
        },
        {
          "output_type": "execute_result",
          "data": {
            "text/html": [
              "<div>\n",
              "<style scoped>\n",
              "    .dataframe tbody tr th:only-of-type {\n",
              "        vertical-align: middle;\n",
              "    }\n",
              "\n",
              "    .dataframe tbody tr th {\n",
              "        vertical-align: top;\n",
              "    }\n",
              "\n",
              "    .dataframe thead th {\n",
              "        text-align: right;\n",
              "    }\n",
              "</style>\n",
              "<table border=\"1\" class=\"dataframe\">\n",
              "  <thead>\n",
              "    <tr style=\"text-align: right;\">\n",
              "      <th></th>\n",
              "      <th>target</th>\n",
              "      <th>score</th>\n",
              "      <th>prediction</th>\n",
              "      <th>gender</th>\n",
              "    </tr>\n",
              "  </thead>\n",
              "  <tbody>\n",
              "    <tr>\n",
              "      <th>0</th>\n",
              "      <td>0</td>\n",
              "      <td>0.00</td>\n",
              "      <td>0</td>\n",
              "      <td>0</td>\n",
              "    </tr>\n",
              "    <tr>\n",
              "      <th>1</th>\n",
              "      <td>1</td>\n",
              "      <td>0.76</td>\n",
              "      <td>1</td>\n",
              "      <td>1</td>\n",
              "    </tr>\n",
              "    <tr>\n",
              "      <th>2</th>\n",
              "      <td>0</td>\n",
              "      <td>0.00</td>\n",
              "      <td>0</td>\n",
              "      <td>1</td>\n",
              "    </tr>\n",
              "    <tr>\n",
              "      <th>3</th>\n",
              "      <td>0</td>\n",
              "      <td>0.00</td>\n",
              "      <td>0</td>\n",
              "      <td>1</td>\n",
              "    </tr>\n",
              "    <tr>\n",
              "      <th>4</th>\n",
              "      <td>0</td>\n",
              "      <td>0.00</td>\n",
              "      <td>0</td>\n",
              "      <td>1</td>\n",
              "    </tr>\n",
              "    <tr>\n",
              "      <th>5</th>\n",
              "      <td>1</td>\n",
              "      <td>1.00</td>\n",
              "      <td>1</td>\n",
              "      <td>0</td>\n",
              "    </tr>\n",
              "    <tr>\n",
              "      <th>6</th>\n",
              "      <td>0</td>\n",
              "      <td>0.04</td>\n",
              "      <td>0</td>\n",
              "      <td>0</td>\n",
              "    </tr>\n",
              "    <tr>\n",
              "      <th>7</th>\n",
              "      <td>1</td>\n",
              "      <td>0.75</td>\n",
              "      <td>1</td>\n",
              "      <td>0</td>\n",
              "    </tr>\n",
              "    <tr>\n",
              "      <th>8</th>\n",
              "      <td>1</td>\n",
              "      <td>0.88</td>\n",
              "      <td>1</td>\n",
              "      <td>0</td>\n",
              "    </tr>\n",
              "    <tr>\n",
              "      <th>9</th>\n",
              "      <td>0</td>\n",
              "      <td>0.00</td>\n",
              "      <td>0</td>\n",
              "      <td>0</td>\n",
              "    </tr>\n",
              "    <tr>\n",
              "      <th>10</th>\n",
              "      <td>0</td>\n",
              "      <td>0.00</td>\n",
              "      <td>0</td>\n",
              "      <td>1</td>\n",
              "    </tr>\n",
              "    <tr>\n",
              "      <th>11</th>\n",
              "      <td>0</td>\n",
              "      <td>0.02</td>\n",
              "      <td>0</td>\n",
              "      <td>1</td>\n",
              "    </tr>\n",
              "    <tr>\n",
              "      <th>12</th>\n",
              "      <td>0</td>\n",
              "      <td>0.00</td>\n",
              "      <td>0</td>\n",
              "      <td>0</td>\n",
              "    </tr>\n",
              "    <tr>\n",
              "      <th>13</th>\n",
              "      <td>0</td>\n",
              "      <td>0.00</td>\n",
              "      <td>0</td>\n",
              "      <td>1</td>\n",
              "    </tr>\n",
              "    <tr>\n",
              "      <th>14</th>\n",
              "      <td>0</td>\n",
              "      <td>0.02</td>\n",
              "      <td>0</td>\n",
              "      <td>0</td>\n",
              "    </tr>\n",
              "    <tr>\n",
              "      <th>15</th>\n",
              "      <td>1</td>\n",
              "      <td>0.97</td>\n",
              "      <td>1</td>\n",
              "      <td>0</td>\n",
              "    </tr>\n",
              "    <tr>\n",
              "      <th>16</th>\n",
              "      <td>0</td>\n",
              "      <td>0.00</td>\n",
              "      <td>0</td>\n",
              "      <td>1</td>\n",
              "    </tr>\n",
              "    <tr>\n",
              "      <th>17</th>\n",
              "      <td>1</td>\n",
              "      <td>0.94</td>\n",
              "      <td>1</td>\n",
              "      <td>0</td>\n",
              "    </tr>\n",
              "    <tr>\n",
              "      <th>18</th>\n",
              "      <td>0</td>\n",
              "      <td>0.02</td>\n",
              "      <td>0</td>\n",
              "      <td>0</td>\n",
              "    </tr>\n",
              "    <tr>\n",
              "      <th>19</th>\n",
              "      <td>0</td>\n",
              "      <td>0.00</td>\n",
              "      <td>0</td>\n",
              "      <td>1</td>\n",
              "    </tr>\n",
              "  </tbody>\n",
              "</table>\n",
              "</div>"
            ],
            "text/plain": [
              "    target  score  prediction gender\n",
              "0        0   0.00           0      0\n",
              "1        1   0.76           1      1\n",
              "2        0   0.00           0      1\n",
              "3        0   0.00           0      1\n",
              "4        0   0.00           0      1\n",
              "5        1   1.00           1      0\n",
              "6        0   0.04           0      0\n",
              "7        1   0.75           1      0\n",
              "8        1   0.88           1      0\n",
              "9        0   0.00           0      0\n",
              "10       0   0.00           0      1\n",
              "11       0   0.02           0      1\n",
              "12       0   0.00           0      0\n",
              "13       0   0.00           0      1\n",
              "14       0   0.02           0      0\n",
              "15       1   0.97           1      0\n",
              "16       0   0.00           0      1\n",
              "17       1   0.94           1      0\n",
              "18       0   0.02           0      0\n",
              "19       0   0.00           0      1"
            ]
          },
          "metadata": {
            "tags": []
          },
          "execution_count": 104
        }
      ]
    },
    {
      "cell_type": "markdown",
      "metadata": {
        "id": "2fygMt1G8G-C",
        "colab_type": "text"
      },
      "source": [
        "# **Classification Analysis**\n",
        "\n"
      ]
    },
    {
      "cell_type": "markdown",
      "metadata": {
        "id": "4mi1Og6bTp10",
        "colab_type": "text"
      },
      "source": [
        "## **Gender**"
      ]
    },
    {
      "cell_type": "code",
      "metadata": {
        "id": "t0QQw-Sg1HhJ",
        "colab_type": "code",
        "outputId": "0f63f502-e590-40f5-89c5-881a868aff0d",
        "colab": {
          "base_uri": "https://localhost:8080/",
          "height": 456
        }
      },
      "source": [
        "male_fatality = data.loc[(data['Sex'] == '0')]\n",
        "\n",
        "print(len(male_fatality['Fatality_Rate']))\n",
        "\n",
        "# male_fatality_percentage = len(data['Fatality_Rate'] == 0) / len(data['Fatality_Rate'])\n",
        "\n",
        "male_fatality.head(100000)"
      ],
      "execution_count": 105,
      "outputs": [
        {
          "output_type": "stream",
          "text": [
            "13910\n"
          ],
          "name": "stdout"
        },
        {
          "output_type": "execute_result",
          "data": {
            "text/html": [
              "<div>\n",
              "<style scoped>\n",
              "    .dataframe tbody tr th:only-of-type {\n",
              "        vertical-align: middle;\n",
              "    }\n",
              "\n",
              "    .dataframe tbody tr th {\n",
              "        vertical-align: top;\n",
              "    }\n",
              "\n",
              "    .dataframe thead th {\n",
              "        text-align: right;\n",
              "    }\n",
              "</style>\n",
              "<table border=\"1\" class=\"dataframe\">\n",
              "  <thead>\n",
              "    <tr style=\"text-align: right;\">\n",
              "      <th></th>\n",
              "      <th>Sex</th>\n",
              "      <th>Age</th>\n",
              "      <th>Suicides_No</th>\n",
              "      <th>Population</th>\n",
              "      <th>Suicides/100K</th>\n",
              "      <th>GDP</th>\n",
              "      <th>GDP_Per_Capita</th>\n",
              "      <th>Generation</th>\n",
              "      <th>Fatality_Rate</th>\n",
              "    </tr>\n",
              "  </thead>\n",
              "  <tbody>\n",
              "    <tr>\n",
              "      <th>0</th>\n",
              "      <td>0</td>\n",
              "      <td>19.5</td>\n",
              "      <td>21</td>\n",
              "      <td>312900</td>\n",
              "      <td>6.71</td>\n",
              "      <td>2156624900</td>\n",
              "      <td>796</td>\n",
              "      <td>1</td>\n",
              "      <td>0</td>\n",
              "    </tr>\n",
              "    <tr>\n",
              "      <th>1</th>\n",
              "      <td>0</td>\n",
              "      <td>44.5</td>\n",
              "      <td>16</td>\n",
              "      <td>308000</td>\n",
              "      <td>5.19</td>\n",
              "      <td>2156624900</td>\n",
              "      <td>796</td>\n",
              "      <td>5</td>\n",
              "      <td>0</td>\n",
              "    </tr>\n",
              "    <tr>\n",
              "      <th>3</th>\n",
              "      <td>0</td>\n",
              "      <td>75.0</td>\n",
              "      <td>1</td>\n",
              "      <td>21800</td>\n",
              "      <td>4.59</td>\n",
              "      <td>2156624900</td>\n",
              "      <td>796</td>\n",
              "      <td>3</td>\n",
              "      <td>0</td>\n",
              "    </tr>\n",
              "    <tr>\n",
              "      <th>4</th>\n",
              "      <td>0</td>\n",
              "      <td>29.5</td>\n",
              "      <td>9</td>\n",
              "      <td>274300</td>\n",
              "      <td>3.28</td>\n",
              "      <td>2156624900</td>\n",
              "      <td>796</td>\n",
              "      <td>0</td>\n",
              "      <td>0</td>\n",
              "    </tr>\n",
              "    <tr>\n",
              "      <th>8</th>\n",
              "      <td>0</td>\n",
              "      <td>64.5</td>\n",
              "      <td>1</td>\n",
              "      <td>137500</td>\n",
              "      <td>0.73</td>\n",
              "      <td>2156624900</td>\n",
              "      <td>796</td>\n",
              "      <td>3</td>\n",
              "      <td>0</td>\n",
              "    </tr>\n",
              "    <tr>\n",
              "      <th>...</th>\n",
              "      <td>...</td>\n",
              "      <td>...</td>\n",
              "      <td>...</td>\n",
              "      <td>...</td>\n",
              "      <td>...</td>\n",
              "      <td>...</td>\n",
              "      <td>...</td>\n",
              "      <td>...</td>\n",
              "      <td>...</td>\n",
              "    </tr>\n",
              "    <tr>\n",
              "      <th>27809</th>\n",
              "      <td>0</td>\n",
              "      <td>29.5</td>\n",
              "      <td>318</td>\n",
              "      <td>2739150</td>\n",
              "      <td>11.61</td>\n",
              "      <td>63067077179</td>\n",
              "      <td>2309</td>\n",
              "      <td>4</td>\n",
              "      <td>0</td>\n",
              "    </tr>\n",
              "    <tr>\n",
              "      <th>27811</th>\n",
              "      <td>0</td>\n",
              "      <td>64.5</td>\n",
              "      <td>144</td>\n",
              "      <td>1271111</td>\n",
              "      <td>11.33</td>\n",
              "      <td>63067077179</td>\n",
              "      <td>2309</td>\n",
              "      <td>0</td>\n",
              "      <td>0</td>\n",
              "    </tr>\n",
              "    <tr>\n",
              "      <th>27812</th>\n",
              "      <td>0</td>\n",
              "      <td>19.5</td>\n",
              "      <td>347</td>\n",
              "      <td>3126905</td>\n",
              "      <td>11.10</td>\n",
              "      <td>63067077179</td>\n",
              "      <td>2309</td>\n",
              "      <td>4</td>\n",
              "      <td>0</td>\n",
              "    </tr>\n",
              "    <tr>\n",
              "      <th>27813</th>\n",
              "      <td>0</td>\n",
              "      <td>75.0</td>\n",
              "      <td>17</td>\n",
              "      <td>224995</td>\n",
              "      <td>7.56</td>\n",
              "      <td>63067077179</td>\n",
              "      <td>2309</td>\n",
              "      <td>5</td>\n",
              "      <td>0</td>\n",
              "    </tr>\n",
              "    <tr>\n",
              "      <th>27817</th>\n",
              "      <td>0</td>\n",
              "      <td>9.5</td>\n",
              "      <td>60</td>\n",
              "      <td>2762158</td>\n",
              "      <td>2.17</td>\n",
              "      <td>63067077179</td>\n",
              "      <td>2309</td>\n",
              "      <td>2</td>\n",
              "      <td>0</td>\n",
              "    </tr>\n",
              "  </tbody>\n",
              "</table>\n",
              "<p>13910 rows × 9 columns</p>\n",
              "</div>"
            ],
            "text/plain": [
              "      Sex   Age  Suicides_No  ...  GDP_Per_Capita  Generation Fatality_Rate\n",
              "0       0  19.5           21  ...             796           1             0\n",
              "1       0  44.5           16  ...             796           5             0\n",
              "3       0  75.0            1  ...             796           3             0\n",
              "4       0  29.5            9  ...             796           0             0\n",
              "8       0  64.5            1  ...             796           3             0\n",
              "...    ..   ...          ...  ...             ...         ...           ...\n",
              "27809   0  29.5          318  ...            2309           4             0\n",
              "27811   0  64.5          144  ...            2309           0             0\n",
              "27812   0  19.5          347  ...            2309           4             0\n",
              "27813   0  75.0           17  ...            2309           5             0\n",
              "27817   0   9.5           60  ...            2309           2             0\n",
              "\n",
              "[13910 rows x 9 columns]"
            ]
          },
          "metadata": {
            "tags": []
          },
          "execution_count": 105
        }
      ]
    },
    {
      "cell_type": "code",
      "metadata": {
        "id": "i7iGbTFFTssU",
        "colab_type": "code",
        "outputId": "6eb668cc-4cab-4df8-c53f-eab314797001",
        "colab": {
          "base_uri": "https://localhost:8080/",
          "height": 540
        }
      },
      "source": [
        "data1['Fatality_Rate'] = np.where(data1['Suicides/100K']>data1['Suicides/100K'].mean(), 1, 0)\n",
        "data1 = data1[data1['Sex'] == '1']\n",
        "\n",
        "print(data1)\n",
        "data1.head()\n",
        "\n",
        "\n",
        "X1 = np.array(data1.drop(['Fatality_Rate', 'Suicides/100K'], 1))\n",
        "y1 = np.array(data1.Fatality_Rate)\n",
        "\n",
        "X1_train, X1_test, y1_train, y1_test = train_test_split(X1, y1, test_size=0.20, random_state=42)\n",
        "\n",
        "model1 = RandomForestClassifier(n_estimators=100, random_state=42)\n",
        "model1.fit(X1_train, y1_train)\n",
        "\n",
        "y1_pred = model1.predict(X1_test)\n",
        "\n",
        "print(\"Model accuracy is: {0:.2f}\".format(accuracy_score(y1_test, y1_pred) * 100))\n",
        "\n",
        "mat = confusion_matrix(y1_test, y1_pred)\n",
        "\n",
        "sns.heatmap(mat, square=True, annot=True, cbar=True)\n",
        "\n",
        "plt.xlabel('predicted value')\n",
        "plt.ylabel('true value');\n"
      ],
      "execution_count": 106,
      "outputs": [
        {
          "output_type": "stream",
          "text": [
            "      Sex   Age  Suicides_No  ...  GDP_Per_Capita  Generation Fatality_Rate\n",
            "2       1  19.5           14  ...             796           1             0\n",
            "5       1  75.0            1  ...             796           3             0\n",
            "6       1  44.5            6  ...             796           5             0\n",
            "7       1  29.5            4  ...             796           0             0\n",
            "9       1   9.5            0  ...             796           1             0\n",
            "...    ..   ...          ...  ...             ...         ...           ...\n",
            "27814   1  29.5          162  ...            2309           4             0\n",
            "27815   1  44.5          107  ...            2309           1             0\n",
            "27816   1  75.0            9  ...            2309           5             0\n",
            "27818   1   9.5           44  ...            2309           2             0\n",
            "27819   1  64.5           21  ...            2309           0             0\n",
            "\n",
            "[13910 rows x 9 columns]\n",
            "Model accuracy is: 98.49\n"
          ],
          "name": "stdout"
        },
        {
          "output_type": "display_data",
          "data": {
            "image/png": "[encoded data removed]",
            "text/plain": [
              "<Figure size 432x288 with 2 Axes>"
            ]
          },
          "metadata": {
            "tags": []
          }
        }
      ]
    },
    {
      "cell_type": "markdown",
      "metadata": {
        "id": "g8aZvn-KSX94",
        "colab_type": "text"
      },
      "source": [
        "**Seperation**"
      ]
    },
    {
      "cell_type": "code",
      "metadata": {
        "id": "IqpaR7LKSbSy",
        "colab_type": "code",
        "colab": {
          "base_uri": "https://localhost:8080/",
          "height": 464
        },
        "outputId": "3c05fae7-75d4-4af5-9037-dd204526392b"
      },
      "source": [
        "male = marginals[marginals['gender'] == '0']\n",
        "#the metrics.roc_curve method from sklearn library takes the labels, and scores \n",
        "# and reutrn false positive, true positive rate and a threshold which we ignore \n",
        "\n",
        "fpr_male, tpr_male, t_ = metrics.roc_curve(male['target'], male['score'])\n",
        "\n",
        "\n",
        "female = marginals[marginals['gender'] == '1']\n",
        "fpr_female, tpr_female, _ = metrics.roc_curve(female['target'], female['score'])\n",
        "\n",
        "\n",
        "plt.figure(1, figsize=(8, 7))\n",
        "plt.title('ROC curves by group')\n",
        "plt.xlabel('False positive rate')\n",
        "plt.ylabel('True positive rate')\n",
        "\n",
        "plt.plot(fpr_male, tpr_male, label='male', linestyle='-', color='b')\n",
        "plt.plot(fpr_female, tpr_female, label='female', linestyle='--', color='g')\n",
        "plt.margins(x=0.05, y=0.05)\n",
        "\n",
        "plt.legend()\n",
        "plt.show()"
      ],
      "execution_count": 107,
      "outputs": [
        {
          "output_type": "display_data",
          "data": {
            "image/png": "[encoded data removed]",
            "text/plain": [
              "<Figure size 576x504 with 1 Axes>"
            ]
          },
          "metadata": {
            "tags": []
          }
        }
      ]
    },
    {
      "cell_type": "markdown",
      "metadata": {
        "id": "EGGnAK_ofXpv",
        "colab_type": "text"
      },
      "source": [
        "**Sufficieny**\n"
      ]
    },
    {
      "cell_type": "code",
      "metadata": {
        "id": "B-x6QDmIffTr",
        "colab_type": "code",
        "colab": {}
      },
      "source": [
        "# From UCI adult data set.ipynb\n",
        "\n",
        "def score_range(p, q, df):\n",
        "    \"\"\"Returns number of success and observations for given bucket.\"\"\"\n",
        "    gp = df[df['score'] > p]\n",
        "    lq = gp[gp['score'] <= q]\n",
        "    return [sum(lq['target']), len(lq['target'])]\n",
        "\n",
        "def get_frequencies(marginals, num_buckets=10):\n",
        "    \"\"\"Returns list of lists. The first list is successes \n",
        "    for all buckets, the second one is total counts.\"\"\"\n",
        "    ts = np.linspace(0, 1, num_buckets+1)\n",
        "    frequencies = [[],[]]\n",
        "    for i in range(num_buckets):\n",
        "        b = score_range(ts[i], ts[i+1], marginals)\n",
        "        frequencies[0].append(b[0])\n",
        "        frequencies[1].append(b[1])\n",
        "    return frequencies\n",
        "\n",
        "def plot_confidence(plt, xs, n_succs, n_obss, label, linestyle, color, confidence=0.95):\n",
        "    \"\"\"Plot a graph with confidence intervals where\n",
        "       each x corresponds to a binomial random variable in which n_obs observations led to n_succ successes\"\"\"\n",
        "    n_succs, n_obss = np.array(n_succs), np.array(n_obss)\n",
        "    conf_lbs, conf_ubs = proportion.proportion_confint(n_succs, n_obss, alpha=1-confidence)\n",
        "    pylab.fill_between(xs, conf_ubs, conf_lbs, alpha=.2, color=color)\n",
        "    pylab.plot(xs, n_succs / n_obss, '.-', label=label, linestyle=linestyle, color=color)"
      ],
      "execution_count": 0,
      "outputs": []
    },
    {
      "cell_type": "code",
      "metadata": {
        "id": "CouRiLVffzwJ",
        "colab_type": "code",
        "colab": {
          "base_uri": "https://localhost:8080/",
          "height": 500
        },
        "outputId": "11cb750c-90ea-4611-d6c2-57636b13e017"
      },
      "source": [
        "genders = ['Male', 'Female']\n",
        "styles = ['-', '--']\n",
        "colors = ['r', 'b']\n",
        "deciles = range(1, 10+1)\n",
        "pylab.rc('font',  size='17')\n",
        "pylab.rc('axes', labelsize='large')\n",
        "pylab.rc('lines', linewidth=3)\n",
        "\n",
        "pylab.figure(1, figsize=(6, 5))\n",
        "pylab.title('Calibration (Gender)')\n",
        "\n",
        "for i in range(2):\n",
        "    gender = genders[i]\n",
        "    num = get_frequencies(marginals[marginals['gender']== gender])\n",
        "    plot_confidence(plt, deciles, num[0], num[1], gender, styles[i], colors[i])\n",
        "\n",
        "pylab.legend(title=\"Gender\")\n",
        "pylab.ylabel('Rate of positive outcomes')\n",
        "pylab.xlabel('Score decile')\n",
        "#pylab.tight_layout()"
      ],
      "execution_count": 114,
      "outputs": [
        {
          "output_type": "stream",
          "text": [
            "/usr/local/lib/python3.6/dist-packages/statsmodels/stats/proportion.py:86: RuntimeWarning: invalid value encountered in true_divide\n",
            "  q_ = count * 1. / nobs\n",
            "/usr/local/lib/python3.6/dist-packages/ipykernel_launcher.py:26: RuntimeWarning: invalid value encountered in true_divide\n",
            "/usr/local/lib/python3.6/dist-packages/statsmodels/stats/proportion.py:86: RuntimeWarning: invalid value encountered in true_divide\n",
            "  q_ = count * 1. / nobs\n",
            "/usr/local/lib/python3.6/dist-packages/ipykernel_launcher.py:26: RuntimeWarning: invalid value encountered in true_divide\n"
          ],
          "name": "stderr"
        },
        {
          "output_type": "execute_result",
          "data": {
            "text/plain": [
              "Text(0.5, 0, 'Score decile')"
            ]
          },
          "metadata": {
            "tags": []
          },
          "execution_count": 114
        },
        {
          "output_type": "display_data",
          "data": {
            "image/png": "[encoded data removed]",
            "text/plain": [
              "<Figure size 432x360 with 1 Axes>"
            ]
          },
          "metadata": {
            "tags": []
          }
        }
      ]
    }
  ]
}